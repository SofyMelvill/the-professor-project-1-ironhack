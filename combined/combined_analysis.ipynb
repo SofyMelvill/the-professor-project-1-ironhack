{
 "cells": [
  {
   "cell_type": "code",
   "execution_count": 7,
   "id": "c9adb4e5",
   "metadata": {},
   "outputs": [],
   "source": [
    "import pandas as pd\n",
    "\n",
    "jobs_adzuna = pd.read_csv(\"../Sofia/jobs_adzuna_analysis.csv\")\n",
    "jobs_github = pd.read_csv(\"../MG/final_jobs.csv\")\n",
    "\n",
    "combined = pd.concat([jobs_adzuna, jobs_github], ignore_index=True)\n",
    "\n",
    "combined.to_csv(\"combined.csv\", index=False)\n",
    "\n"
   ]
  },
  {
   "cell_type": "code",
   "execution_count": null,
   "id": "94efc0a6",
   "metadata": {},
   "outputs": [],
   "source": []
  }
 ],
 "metadata": {
  "kernelspec": {
   "display_name": "base",
   "language": "python",
   "name": "python3"
  },
  "language_info": {
   "codemirror_mode": {
    "name": "ipython",
    "version": 3
   },
   "file_extension": ".py",
   "mimetype": "text/x-python",
   "name": "python",
   "nbconvert_exporter": "python",
   "pygments_lexer": "ipython3",
   "version": "3.12.4"
  }
 },
 "nbformat": 4,
 "nbformat_minor": 5
}
