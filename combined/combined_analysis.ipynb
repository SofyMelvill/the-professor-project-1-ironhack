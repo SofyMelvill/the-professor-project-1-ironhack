{
 "cells": [
  {
   "cell_type": "code",
   "execution_count": 7,
   "id": "c9adb4e5",
   "metadata": {},
   "outputs": [],
   "source": [
    "import pandas as pd\n",
    "\n",
    "jobs_adzuna = pd.read_csv(\"../Sofia/jobs_adzuna_analysis.csv\")\n",
    "jobs_github = pd.read_csv(\"../MG/final_jobs.csv\")\n",
    "\n",
    "combined = pd.concat([jobs_adzuna, jobs_github], ignore_index=True)\n",
    "\n",
    "combined.to_csv(\"combined.csv\", index=False)\n",
    "\n"
   ]
  },
  {
   "cell_type": "code",
   "execution_count": 9,
   "id": "94efc0a6",
   "metadata": {},
   "outputs": [
    {
     "name": "stdout",
     "output_type": "stream",
     "text": [
      "(1857, 6)\n",
      "   date     job_title  salary_in_usd work_mode country  \\\n",
      "0  2025         Other        52996.0    onsite      GB   \n",
      "1  2025  Data Analyst        50000.0    hybrid      GB   \n",
      "2  2025  Data Analyst        24000.0    onsite      GB   \n",
      "3  2025  Data Analyst        35000.0    onsite      GB   \n",
      "4  2025  Data Analyst        43779.0    onsite      GB   \n",
      "\n",
      "                                        skills  \n",
      "0                                        ['r']  \n",
      "1  ['excel', 'power bi', 'python', 'r', 'sql']  \n",
      "2                                        ['r']  \n",
      "3                                        ['r']  \n",
      "4                                        ['r']  \n",
      "job_title\n",
      "Data Analyst                  775\n",
      "Other                         464\n",
      "Data Engineer                 284\n",
      "Data Scientist                270\n",
      "Machine Learning Developer     62\n",
      "Machine Learning                2\n",
      "Name: count, dtype: int64\n"
     ]
    }
   ],
   "source": [
    "print(combined.shape)\n",
    "print(combined.head())\n",
    "print(combined[\"job_title\"].value_counts())\n"
   ]
  },
  {
   "cell_type": "code",
   "execution_count": 22,
   "id": "ed8149b3",
   "metadata": {},
   "outputs": [
    {
     "name": "stdout",
     "output_type": "stream",
     "text": [
      "job_title\n",
      "Data Analyst                  775\n",
      "Data Engineer                 284\n",
      "Data Scientist                270\n",
      "Machine Learning Developer     64\n",
      "Name: count, dtype: int64\n",
      "(1393, 6)\n"
     ]
    }
   ],
   "source": [
    "#drop rows where job_title is \"Other\":\n",
    "\n",
    "combined = combined[combined[\"job_title\"] != \"Other\"]\n",
    "combined['job_title'] = combined['job_title'].replace('Machine Learning', 'Machine Learning Developer')\n",
    "print(combined[\"job_title\"].value_counts())\n",
    "print(combined.shape)\n"
   ]
  },
  {
   "cell_type": "code",
   "execution_count": 23,
   "id": "f57afb06",
   "metadata": {},
   "outputs": [
    {
     "data": {
      "text/html": [
       "<div>\n",
       "<style scoped>\n",
       "    .dataframe tbody tr th:only-of-type {\n",
       "        vertical-align: middle;\n",
       "    }\n",
       "\n",
       "    .dataframe tbody tr th {\n",
       "        vertical-align: top;\n",
       "    }\n",
       "\n",
       "    .dataframe thead th {\n",
       "        text-align: right;\n",
       "    }\n",
       "</style>\n",
       "<table border=\"1\" class=\"dataframe\">\n",
       "  <thead>\n",
       "    <tr style=\"text-align: right;\">\n",
       "      <th></th>\n",
       "      <th>date</th>\n",
       "      <th>job_title</th>\n",
       "      <th>salary_in_usd</th>\n",
       "      <th>work_mode</th>\n",
       "      <th>country</th>\n",
       "      <th>skills</th>\n",
       "    </tr>\n",
       "  </thead>\n",
       "  <tbody>\n",
       "    <tr>\n",
       "      <th>1</th>\n",
       "      <td>2025</td>\n",
       "      <td>Data Analyst</td>\n",
       "      <td>50000.0</td>\n",
       "      <td>hybrid</td>\n",
       "      <td>GB</td>\n",
       "      <td>[excel, power bi, python, r, sql]</td>\n",
       "    </tr>\n",
       "    <tr>\n",
       "      <th>2</th>\n",
       "      <td>2025</td>\n",
       "      <td>Data Analyst</td>\n",
       "      <td>24000.0</td>\n",
       "      <td>onsite</td>\n",
       "      <td>GB</td>\n",
       "      <td>[SQL, Excel, Python, R, Tableau, Power BI, Sta...</td>\n",
       "    </tr>\n",
       "    <tr>\n",
       "      <th>3</th>\n",
       "      <td>2025</td>\n",
       "      <td>Data Analyst</td>\n",
       "      <td>35000.0</td>\n",
       "      <td>onsite</td>\n",
       "      <td>GB</td>\n",
       "      <td>[SQL, Excel, Python, R, Tableau, Power BI, Sta...</td>\n",
       "    </tr>\n",
       "    <tr>\n",
       "      <th>4</th>\n",
       "      <td>2025</td>\n",
       "      <td>Data Analyst</td>\n",
       "      <td>43779.0</td>\n",
       "      <td>onsite</td>\n",
       "      <td>GB</td>\n",
       "      <td>[SQL, Excel, Python, R, Tableau, Power BI, Sta...</td>\n",
       "    </tr>\n",
       "    <tr>\n",
       "      <th>5</th>\n",
       "      <td>2025</td>\n",
       "      <td>Data Analyst</td>\n",
       "      <td>25904.0</td>\n",
       "      <td>onsite</td>\n",
       "      <td>GB</td>\n",
       "      <td>[SQL, Excel, Python, R, Tableau, Power BI, Sta...</td>\n",
       "    </tr>\n",
       "    <tr>\n",
       "      <th>...</th>\n",
       "      <td>...</td>\n",
       "      <td>...</td>\n",
       "      <td>...</td>\n",
       "      <td>...</td>\n",
       "      <td>...</td>\n",
       "      <td>...</td>\n",
       "    </tr>\n",
       "    <tr>\n",
       "      <th>1852</th>\n",
       "      <td>2022</td>\n",
       "      <td>Data Engineer</td>\n",
       "      <td>154000.0</td>\n",
       "      <td>remote</td>\n",
       "      <td>US</td>\n",
       "      <td>[Python, Java, Scala, SQL, NoSQL, ETL, pipelin...</td>\n",
       "    </tr>\n",
       "    <tr>\n",
       "      <th>1853</th>\n",
       "      <td>2022</td>\n",
       "      <td>Data Engineer</td>\n",
       "      <td>126000.0</td>\n",
       "      <td>remote</td>\n",
       "      <td>US</td>\n",
       "      <td>[Python, Java, Scala, SQL, NoSQL, ETL, pipelin...</td>\n",
       "    </tr>\n",
       "    <tr>\n",
       "      <th>1854</th>\n",
       "      <td>2022</td>\n",
       "      <td>Data Analyst</td>\n",
       "      <td>129000.0</td>\n",
       "      <td>on_site</td>\n",
       "      <td>US</td>\n",
       "      <td>[SQL, Excel, Python, R, Tableau, Power BI, Sta...</td>\n",
       "    </tr>\n",
       "    <tr>\n",
       "      <th>1855</th>\n",
       "      <td>2022</td>\n",
       "      <td>Data Analyst</td>\n",
       "      <td>150000.0</td>\n",
       "      <td>remote</td>\n",
       "      <td>US</td>\n",
       "      <td>[SQL, Excel, Python, R, Tableau, Power BI, Sta...</td>\n",
       "    </tr>\n",
       "    <tr>\n",
       "      <th>1856</th>\n",
       "      <td>2022</td>\n",
       "      <td>Data Scientist</td>\n",
       "      <td>200000.0</td>\n",
       "      <td>remote</td>\n",
       "      <td>US</td>\n",
       "      <td>[Python, R, Statistics, Machine learning, Data...</td>\n",
       "    </tr>\n",
       "  </tbody>\n",
       "</table>\n",
       "<p>1393 rows × 6 columns</p>\n",
       "</div>"
      ],
      "text/plain": [
       "      date       job_title  salary_in_usd work_mode country  \\\n",
       "1     2025    Data Analyst        50000.0    hybrid      GB   \n",
       "2     2025    Data Analyst        24000.0    onsite      GB   \n",
       "3     2025    Data Analyst        35000.0    onsite      GB   \n",
       "4     2025    Data Analyst        43779.0    onsite      GB   \n",
       "5     2025    Data Analyst        25904.0    onsite      GB   \n",
       "...    ...             ...            ...       ...     ...   \n",
       "1852  2022   Data Engineer       154000.0    remote      US   \n",
       "1853  2022   Data Engineer       126000.0    remote      US   \n",
       "1854  2022    Data Analyst       129000.0   on_site      US   \n",
       "1855  2022    Data Analyst       150000.0    remote      US   \n",
       "1856  2022  Data Scientist       200000.0    remote      US   \n",
       "\n",
       "                                                 skills  \n",
       "1                     [excel, power bi, python, r, sql]  \n",
       "2     [SQL, Excel, Python, R, Tableau, Power BI, Sta...  \n",
       "3     [SQL, Excel, Python, R, Tableau, Power BI, Sta...  \n",
       "4     [SQL, Excel, Python, R, Tableau, Power BI, Sta...  \n",
       "5     [SQL, Excel, Python, R, Tableau, Power BI, Sta...  \n",
       "...                                                 ...  \n",
       "1852  [Python, Java, Scala, SQL, NoSQL, ETL, pipelin...  \n",
       "1853  [Python, Java, Scala, SQL, NoSQL, ETL, pipelin...  \n",
       "1854  [SQL, Excel, Python, R, Tableau, Power BI, Sta...  \n",
       "1855  [SQL, Excel, Python, R, Tableau, Power BI, Sta...  \n",
       "1856  [Python, R, Statistics, Machine learning, Data...  \n",
       "\n",
       "[1393 rows x 6 columns]"
      ]
     },
     "execution_count": 23,
     "metadata": {},
     "output_type": "execute_result"
    }
   ],
   "source": [
    "combined"
   ]
  },
  {
   "cell_type": "code",
   "execution_count": 24,
   "id": "430b7750",
   "metadata": {},
   "outputs": [],
   "source": [
    "import ast\n",
    "\n",
    "skills_map = {\n",
    "    'Data Scientist': [\n",
    "        'Python', 'R',\n",
    "        'Statistics',\n",
    "        'Machine learning',\n",
    "        'Data cleaning',\n",
    "        'SQL',\n",
    "        'Visualization (e.g. Tableau)',\n",
    "        'Big data (e.g. Spark)',\n",
    "        'Model validation',\n",
    "        'Communication',\n",
    "        'Domain knowledge'\n",
    "    ],\n",
    "    'Machine Learning Developer': [\n",
    "        'Python', 'C++',\n",
    "        'TensorFlow', 'PyTorch',\n",
    "        'ML algorithms',\n",
    "        'Data pipelines',\n",
    "        'Deployment',\n",
    "        'Cloud (AWS, GCP)',\n",
    "        'Git',\n",
    "        'Math',\n",
    "        'Experiment tracking',\n",
    "        'Software practices'\n",
    "    ],\n",
    "    'Data Engineer': [\n",
    "        'Python', 'Java', 'Scala',\n",
    "        'SQL', 'NoSQL',\n",
    "        'ETL', 'pipelines',\n",
    "        'Spark', 'Kafka',\n",
    "        'Airflow',\n",
    "        'Cloud platforms',\n",
    "        'Data modeling',\n",
    "        'Docker', 'Kubernetes',\n",
    "        'APIs',\n",
    "        'Linux'\n",
    "    ],\n",
    "    'Data Analyst': [\n",
    "        'SQL',\n",
    "        'Excel',\n",
    "        'Python', 'R',\n",
    "        'Tableau', 'Power BI',\n",
    "        'Statistics',\n",
    "        'Cleaning data',\n",
    "        'Reporting',\n",
    "        'Communication',\n",
    "        'Business insight',\n",
    "        'Critical thinking'\n",
    "    ]\n",
    "}\n",
    "\n",
    "\n",
    "# Ensure 'skills' column is in list format\n",
    "combined['skills'] = combined['skills'].apply(lambda x: ast.literal_eval(x) if isinstance(x, str) else x)\n",
    "\n",
    "# Replace rows where skills == ['r']\n",
    "def replace_r_skills(row):\n",
    "    if row['skills'] == ['r']:\n",
    "        return skills_map.get(row['job_title'], row['skills'])\n",
    "    return row['skills']\n",
    "\n",
    "combined['skills'] = combined.apply(replace_r_skills, axis=1)\n",
    "\n",
    "combined.to_csv(\"combined.csv\", index=False)\n",
    "\n"
   ]
  },
  {
   "cell_type": "code",
   "execution_count": 25,
   "id": "7603fc9a",
   "metadata": {},
   "outputs": [
    {
     "name": "stdout",
     "output_type": "stream",
     "text": [
      "job_title\n",
      "Data Analyst                  775\n",
      "Data Engineer                 284\n",
      "Data Scientist                270\n",
      "Machine Learning Developer     64\n",
      "Name: count, dtype: int64\n"
     ]
    }
   ],
   "source": [
    "print(combined['job_title'].value_counts())\n"
   ]
  },
  {
   "cell_type": "code",
   "execution_count": 26,
   "id": "3bbfd4f9",
   "metadata": {},
   "outputs": [
    {
     "name": "stdout",
     "output_type": "stream",
     "text": [
      "Empty DataFrame\n",
      "Columns: [date, job_title, salary_in_usd, work_mode, country, skills]\n",
      "Index: []\n"
     ]
    }
   ],
   "source": [
    "print(combined[combined['skills'].apply(lambda x: x == ['r'])])\n"
   ]
  },
  {
   "cell_type": "code",
   "execution_count": 29,
   "id": "9cd33521",
   "metadata": {},
   "outputs": [
    {
     "name": "stdout",
     "output_type": "stream",
     "text": [
      "<class 'pandas.core.frame.DataFrame'>\n",
      "Index: 1393 entries, 1 to 1856\n",
      "Data columns (total 6 columns):\n",
      " #   Column         Non-Null Count  Dtype  \n",
      "---  ------         --------------  -----  \n",
      " 0   date           1393 non-null   int64  \n",
      " 1   job_title      1393 non-null   object \n",
      " 2   salary_in_usd  1010 non-null   float64\n",
      " 3   work_mode      1393 non-null   object \n",
      " 4   country        1393 non-null   object \n",
      " 5   skills         1393 non-null   object \n",
      "dtypes: float64(1), int64(1), object(4)\n",
      "memory usage: 76.2+ KB\n"
     ]
    }
   ],
   "source": [
    "combined.info()"
   ]
  },
  {
   "cell_type": "code",
   "execution_count": 30,
   "id": "434ac380",
   "metadata": {},
   "outputs": [
    {
     "data": {
      "text/plain": [
       "<Axes: >"
      ]
     },
     "execution_count": 30,
     "metadata": {},
     "output_type": "execute_result"
    },
    {
     "data": {
      "image/png": "[encoded data removed]",
      "text/plain": [
       "<Figure size 640x480 with 1 Axes>"
      ]
     },
     "metadata": {},
     "output_type": "display_data"
    }
   ],
   "source": [
    "combined.boxplot(column='salary_in_usd')"
   ]
  },
  {
   "cell_type": "code",
   "execution_count": null,
   "id": "98784c29",
   "metadata": {},
   "outputs": [
    {
     "name": "stdout",
     "output_type": "stream",
     "text": [
      "count      1010.000000\n",
      "mean      95487.340594\n",
      "std       62510.635287\n",
      "min        2859.000000\n",
      "25%       49830.500000\n",
      "50%       82325.000000\n",
      "75%      125000.000000\n",
      "max      600000.000000\n",
      "Name: salary_in_usd, dtype: float64\n"
     ]
    }
   ],
   "source": [
    "#Check Summary Statistics\n",
    "print(combined['salary_in_usd'].describe())\n"
   ]
  },
  {
   "cell_type": "code",
   "execution_count": 32,
   "id": "4aa4b513",
   "metadata": {},
   "outputs": [],
   "source": [
    "#Remove or Flag Outliers\n",
    "\n",
    "Q1 = combined['salary_in_usd'].quantile(0.25)\n",
    "Q3 = combined['salary_in_usd'].quantile(0.75)\n",
    "IQR = Q3 - Q1\n",
    "\n",
    "filtered_combined = combined[\n",
    "    (combined['salary_in_usd'] >= Q1 - 1.5 * IQR) &\n",
    "    (combined['salary_in_usd'] <= Q3 + 1.5 * IQR)\n",
    "]\n"
   ]
  },
  {
   "cell_type": "code",
   "execution_count": 36,
   "id": "1d03a934",
   "metadata": {},
   "outputs": [
    {
     "data": {
      "image/png": "[encoded data removed]",
      "text/plain": [
       "<Figure size 640x480 with 1 Axes>"
      ]
     },
     "metadata": {},
     "output_type": "display_data"
    }
   ],
   "source": [
    "import matplotlib.pyplot as plt\n",
    "\n",
    "filtered_combined.boxplot(column='salary_in_usd')\n",
    "plt.show()\n"
   ]
  },
  {
   "cell_type": "code",
   "execution_count": 35,
   "id": "17005426",
   "metadata": {},
   "outputs": [
    {
     "name": "stdout",
     "output_type": "stream",
     "text": [
      "count       988.000000\n",
      "mean      90285.338057\n",
      "std       50457.533227\n",
      "min        2859.000000\n",
      "25%       49133.500000\n",
      "50%       80486.500000\n",
      "75%      120000.000000\n",
      "max      235000.000000\n",
      "Name: salary_in_usd, dtype: float64\n"
     ]
    }
   ],
   "source": [
    "print(filtered_combined['salary_in_usd'].describe())\n"
   ]
  },
  {
   "cell_type": "code",
   "execution_count": 37,
   "id": "7403340b",
   "metadata": {},
   "outputs": [
    {
     "name": "stdout",
     "output_type": "stream",
     "text": [
      "(988, 6)\n",
      "   date     job_title  salary_in_usd work_mode country  \\\n",
      "1  2025  Data Analyst        50000.0    hybrid      GB   \n",
      "2  2025  Data Analyst        24000.0    onsite      GB   \n",
      "3  2025  Data Analyst        35000.0    onsite      GB   \n",
      "4  2025  Data Analyst        43779.0    onsite      GB   \n",
      "5  2025  Data Analyst        25904.0    onsite      GB   \n",
      "\n",
      "                                              skills  \n",
      "1                  [excel, power bi, python, r, sql]  \n",
      "2  [SQL, Excel, Python, R, Tableau, Power BI, Sta...  \n",
      "3  [SQL, Excel, Python, R, Tableau, Power BI, Sta...  \n",
      "4  [SQL, Excel, Python, R, Tableau, Power BI, Sta...  \n",
      "5  [SQL, Excel, Python, R, Tableau, Power BI, Sta...  \n",
      "job_title\n",
      "Data Analyst                  470\n",
      "Data Engineer                 233\n",
      "Data Scientist                225\n",
      "Machine Learning Developer     60\n",
      "Name: count, dtype: int64\n"
     ]
    }
   ],
   "source": [
    "print(filtered_combined.shape)\n",
    "print(filtered_combined.head())\n",
    "print(filtered_combined[\"job_title\"].value_counts())"
   ]
  },
  {
   "cell_type": "code",
   "execution_count": null,
   "id": "d59c4241",
   "metadata": {},
   "outputs": [],
   "source": []
  }
 ],
 "metadata": {
  "kernelspec": {
   "display_name": "base",
   "language": "python",
   "name": "python3"
  },
  "language_info": {
   "codemirror_mode": {
    "name": "ipython",
    "version": 3
   },
   "file_extension": ".py",
   "mimetype": "text/x-python",
   "name": "python",
   "nbconvert_exporter": "python",
   "pygments_lexer": "ipython3",
   "version": "3.12.4"
  }
 },
 "nbformat": 4,
 "nbformat_minor": 5
}
